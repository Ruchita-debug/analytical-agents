{
 "cells": [
  {
   "cell_type": "code",
   "execution_count": 1,
   "id": "8e6346e2",
   "metadata": {},
   "outputs": [
    {
     "name": "stdout",
     "output_type": "stream",
     "text": [
      "Collecting autogen-agentchat\n",
      "  Downloading autogen_agentchat-0.6.2-py3-none-any.whl.metadata (2.5 kB)\n",
      "Collecting autogen-ext[azure,openai]\n",
      "  Downloading autogen_ext-0.6.2-py3-none-any.whl.metadata (7.2 kB)\n",
      "Collecting autogen-core==0.6.2 (from autogen-agentchat)\n",
      "  Downloading autogen_core-0.6.2-py3-none-any.whl.metadata (2.4 kB)\n",
      "Collecting jsonref~=1.1.0 (from autogen-core==0.6.2->autogen-agentchat)\n",
      "  Downloading jsonref-1.1.0-py3-none-any.whl.metadata (2.7 kB)\n",
      "Collecting opentelemetry-api>=1.34.1 (from autogen-core==0.6.2->autogen-agentchat)\n",
      "  Downloading opentelemetry_api-1.34.1-py3-none-any.whl.metadata (1.5 kB)\n",
      "Collecting opentelemetry-semantic-conventions==0.55b1 (from autogen-core==0.6.2->autogen-agentchat)\n",
      "  Downloading opentelemetry_semantic_conventions-0.55b1-py3-none-any.whl.metadata (2.5 kB)\n",
      "Requirement already satisfied: pillow>=11.0.0 in /home/codespace/.local/lib/python3.12/site-packages (from autogen-core==0.6.2->autogen-agentchat) (11.2.1)\n",
      "Collecting protobuf~=5.29.3 (from autogen-core==0.6.2->autogen-agentchat)\n",
      "  Downloading protobuf-5.29.5-cp38-abi3-manylinux2014_x86_64.whl.metadata (592 bytes)\n",
      "Collecting pydantic<3.0.0,>=2.10.0 (from autogen-core==0.6.2->autogen-agentchat)\n",
      "  Downloading pydantic-2.11.7-py3-none-any.whl.metadata (67 kB)\n",
      "Requirement already satisfied: typing-extensions>=4.0.0 in /home/codespace/.local/lib/python3.12/site-packages (from autogen-core==0.6.2->autogen-agentchat) (4.13.2)\n",
      "Collecting importlib-metadata<8.8.0,>=6.0 (from opentelemetry-api>=1.34.1->autogen-core==0.6.2->autogen-agentchat)\n",
      "  Downloading importlib_metadata-8.7.0-py3-none-any.whl.metadata (4.8 kB)\n",
      "Collecting zipp>=3.20 (from importlib-metadata<8.8.0,>=6.0->opentelemetry-api>=1.34.1->autogen-core==0.6.2->autogen-agentchat)\n",
      "  Downloading zipp-3.23.0-py3-none-any.whl.metadata (3.6 kB)\n",
      "Collecting annotated-types>=0.6.0 (from pydantic<3.0.0,>=2.10.0->autogen-core==0.6.2->autogen-agentchat)\n",
      "  Downloading annotated_types-0.7.0-py3-none-any.whl.metadata (15 kB)\n",
      "Collecting pydantic-core==2.33.2 (from pydantic<3.0.0,>=2.10.0->autogen-core==0.6.2->autogen-agentchat)\n",
      "  Downloading pydantic_core-2.33.2-cp312-cp312-manylinux_2_17_x86_64.manylinux2014_x86_64.whl.metadata (6.8 kB)\n",
      "Collecting typing-inspection>=0.4.0 (from pydantic<3.0.0,>=2.10.0->autogen-core==0.6.2->autogen-agentchat)\n",
      "  Downloading typing_inspection-0.4.1-py3-none-any.whl.metadata (2.6 kB)\n",
      "Collecting azure-ai-inference>=1.0.0b9 (from autogen-ext[azure,openai])\n",
      "  Downloading azure_ai_inference-1.0.0b9-py3-none-any.whl.metadata (34 kB)\n",
      "Collecting azure-ai-projects>=1.0.0b11 (from autogen-ext[azure,openai])\n",
      "  Downloading azure_ai_projects-1.0.0b12-py3-none-any.whl.metadata (22 kB)\n",
      "Collecting azure-core (from autogen-ext[azure,openai])\n",
      "  Downloading azure_core-1.35.0-py3-none-any.whl.metadata (44 kB)\n",
      "Collecting azure-identity (from autogen-ext[azure,openai])\n",
      "  Downloading azure_identity-1.23.0-py3-none-any.whl.metadata (81 kB)\n",
      "Collecting azure-search-documents>=11.4.0 (from autogen-ext[azure,openai])\n",
      "  Downloading azure_search_documents-11.5.3-py3-none-any.whl.metadata (23 kB)\n",
      "Collecting aiofiles (from autogen-ext[azure,openai])\n",
      "  Downloading aiofiles-24.1.0-py3-none-any.whl.metadata (10 kB)\n",
      "Collecting openai>=1.66.5 (from autogen-ext[azure,openai])\n",
      "  Downloading openai-1.93.0-py3-none-any.whl.metadata (29 kB)\n",
      "Collecting tiktoken>=0.8.0 (from autogen-ext[azure,openai])\n",
      "  Downloading tiktoken-0.9.0-cp312-cp312-manylinux_2_17_x86_64.manylinux2014_x86_64.whl.metadata (6.7 kB)\n",
      "Collecting isodate>=0.6.1 (from azure-ai-inference>=1.0.0b9->autogen-ext[azure,openai])\n",
      "  Downloading isodate-0.7.2-py3-none-any.whl.metadata (11 kB)\n",
      "Collecting azure-storage-blob>=12.15.0 (from azure-ai-projects>=1.0.0b11->autogen-ext[azure,openai])\n",
      "  Downloading azure_storage_blob-12.25.1-py3-none-any.whl.metadata (26 kB)\n",
      "Collecting azure-ai-agents>=1.0.0 (from azure-ai-projects>=1.0.0b11->autogen-ext[azure,openai])\n",
      "  Downloading azure_ai_agents-1.0.2-py3-none-any.whl.metadata (52 kB)\n",
      "Requirement already satisfied: requests>=2.21.0 in /home/codespace/.local/lib/python3.12/site-packages (from azure-core->autogen-ext[azure,openai]) (2.32.3)\n",
      "Requirement already satisfied: six>=1.11.0 in /home/codespace/.local/lib/python3.12/site-packages (from azure-core->autogen-ext[azure,openai]) (1.17.0)\n",
      "Collecting azure-common>=1.1 (from azure-search-documents>=11.4.0->autogen-ext[azure,openai])\n",
      "  Downloading azure_common-1.1.28-py2.py3-none-any.whl.metadata (5.0 kB)\n",
      "Collecting cryptography>=2.1.4 (from azure-storage-blob>=12.15.0->azure-ai-projects>=1.0.0b11->autogen-ext[azure,openai])\n",
      "  Downloading cryptography-45.0.5-cp311-abi3-manylinux_2_34_x86_64.whl.metadata (5.7 kB)\n",
      "Requirement already satisfied: cffi>=1.14 in /home/codespace/.local/lib/python3.12/site-packages (from cryptography>=2.1.4->azure-storage-blob>=12.15.0->azure-ai-projects>=1.0.0b11->autogen-ext[azure,openai]) (1.17.1)\n",
      "Requirement already satisfied: pycparser in /home/codespace/.local/lib/python3.12/site-packages (from cffi>=1.14->cryptography>=2.1.4->azure-storage-blob>=12.15.0->azure-ai-projects>=1.0.0b11->autogen-ext[azure,openai]) (2.22)\n",
      "Requirement already satisfied: anyio<5,>=3.5.0 in /home/codespace/.local/lib/python3.12/site-packages (from openai>=1.66.5->autogen-ext[azure,openai]) (4.9.0)\n",
      "Collecting distro<2,>=1.7.0 (from openai>=1.66.5->autogen-ext[azure,openai])\n",
      "  Downloading distro-1.9.0-py3-none-any.whl.metadata (6.8 kB)\n",
      "Requirement already satisfied: httpx<1,>=0.23.0 in /home/codespace/.local/lib/python3.12/site-packages (from openai>=1.66.5->autogen-ext[azure,openai]) (0.28.1)\n",
      "Collecting jiter<1,>=0.4.0 (from openai>=1.66.5->autogen-ext[azure,openai])\n",
      "  Downloading jiter-0.10.0-cp312-cp312-manylinux_2_17_x86_64.manylinux2014_x86_64.whl.metadata (5.2 kB)\n",
      "Requirement already satisfied: sniffio in /home/codespace/.local/lib/python3.12/site-packages (from openai>=1.66.5->autogen-ext[azure,openai]) (1.3.1)\n",
      "Collecting tqdm>4 (from openai>=1.66.5->autogen-ext[azure,openai])\n",
      "  Downloading tqdm-4.67.1-py3-none-any.whl.metadata (57 kB)\n",
      "Requirement already satisfied: idna>=2.8 in /home/codespace/.local/lib/python3.12/site-packages (from anyio<5,>=3.5.0->openai>=1.66.5->autogen-ext[azure,openai]) (3.10)\n",
      "Requirement already satisfied: certifi in /home/codespace/.local/lib/python3.12/site-packages (from httpx<1,>=0.23.0->openai>=1.66.5->autogen-ext[azure,openai]) (2025.4.26)\n",
      "Requirement already satisfied: httpcore==1.* in /home/codespace/.local/lib/python3.12/site-packages (from httpx<1,>=0.23.0->openai>=1.66.5->autogen-ext[azure,openai]) (1.0.9)\n",
      "Requirement already satisfied: h11>=0.16 in /home/codespace/.local/lib/python3.12/site-packages (from httpcore==1.*->httpx<1,>=0.23.0->openai>=1.66.5->autogen-ext[azure,openai]) (0.16.0)\n",
      "Requirement already satisfied: charset-normalizer<4,>=2 in /home/codespace/.local/lib/python3.12/site-packages (from requests>=2.21.0->azure-core->autogen-ext[azure,openai]) (3.4.2)\n",
      "Requirement already satisfied: urllib3<3,>=1.21.1 in /home/codespace/.local/lib/python3.12/site-packages (from requests>=2.21.0->azure-core->autogen-ext[azure,openai]) (2.4.0)\n",
      "Collecting regex>=2022.1.18 (from tiktoken>=0.8.0->autogen-ext[azure,openai])\n",
      "  Downloading regex-2024.11.6-cp312-cp312-manylinux_2_17_x86_64.manylinux2014_x86_64.whl.metadata (40 kB)\n",
      "Collecting msal>=1.30.0 (from azure-identity->autogen-ext[azure,openai])\n",
      "  Downloading msal-1.32.3-py3-none-any.whl.metadata (11 kB)\n",
      "Collecting msal-extensions>=1.2.0 (from azure-identity->autogen-ext[azure,openai])\n",
      "  Downloading msal_extensions-1.3.1-py3-none-any.whl.metadata (7.8 kB)\n",
      "Collecting PyJWT<3,>=1.0.0 (from PyJWT[crypto]<3,>=1.0.0->msal>=1.30.0->azure-identity->autogen-ext[azure,openai])\n",
      "  Downloading PyJWT-2.10.1-py3-none-any.whl.metadata (4.0 kB)\n",
      "Downloading autogen_agentchat-0.6.2-py3-none-any.whl (114 kB)\n",
      "Downloading autogen_core-0.6.2-py3-none-any.whl (100 kB)\n",
      "Downloading opentelemetry_semantic_conventions-0.55b1-py3-none-any.whl (196 kB)\n",
      "Downloading opentelemetry_api-1.34.1-py3-none-any.whl (65 kB)\n",
      "Downloading importlib_metadata-8.7.0-py3-none-any.whl (27 kB)\n",
      "Downloading jsonref-1.1.0-py3-none-any.whl (9.4 kB)\n",
      "Downloading protobuf-5.29.5-cp38-abi3-manylinux2014_x86_64.whl (319 kB)\n",
      "Downloading pydantic-2.11.7-py3-none-any.whl (444 kB)\n",
      "Downloading pydantic_core-2.33.2-cp312-cp312-manylinux_2_17_x86_64.manylinux2014_x86_64.whl (2.0 MB)\n",
      "\u001b[2K   \u001b[90m━━━━━━━━━━━━━━━━━━━━━━━━━━━━━━━━━━━━━━━━\u001b[0m \u001b[32m2.0/2.0 MB\u001b[0m \u001b[31m13.1 MB/s\u001b[0m eta \u001b[36m0:00:00\u001b[0m\n",
      "\u001b[?25hDownloading autogen_ext-0.6.2-py3-none-any.whl (315 kB)\n",
      "Downloading annotated_types-0.7.0-py3-none-any.whl (13 kB)\n",
      "Downloading azure_ai_inference-1.0.0b9-py3-none-any.whl (124 kB)\n",
      "Downloading azure_ai_projects-1.0.0b12-py3-none-any.whl (129 kB)\n",
      "Downloading azure_ai_agents-1.0.2-py3-none-any.whl (189 kB)\n",
      "Downloading azure_core-1.35.0-py3-none-any.whl (210 kB)\n",
      "Downloading azure_search_documents-11.5.3-py3-none-any.whl (298 kB)\n",
      "Downloading azure_common-1.1.28-py2.py3-none-any.whl (14 kB)\n",
      "Downloading azure_storage_blob-12.25.1-py3-none-any.whl (406 kB)\n",
      "Downloading cryptography-45.0.5-cp311-abi3-manylinux_2_34_x86_64.whl (4.5 MB)\n",
      "\u001b[2K   \u001b[90m━━━━━━━━━━━━━━━━━━━━━━━━━━━━━━━━━━━━━━━━\u001b[0m \u001b[32m4.5/4.5 MB\u001b[0m \u001b[31m23.5 MB/s\u001b[0m eta \u001b[36m0:00:00\u001b[0m\n",
      "\u001b[?25hDownloading isodate-0.7.2-py3-none-any.whl (22 kB)\n",
      "Downloading openai-1.93.0-py3-none-any.whl (755 kB)\n",
      "\u001b[2K   \u001b[90m━━━━━━━━━━━━━━━━━━━━━━━━━━━━━━━━━━━━━━━━\u001b[0m \u001b[32m755.0/755.0 kB\u001b[0m \u001b[31m13.3 MB/s\u001b[0m eta \u001b[36m0:00:00\u001b[0m\n",
      "\u001b[?25hDownloading distro-1.9.0-py3-none-any.whl (20 kB)\n",
      "Downloading jiter-0.10.0-cp312-cp312-manylinux_2_17_x86_64.manylinux2014_x86_64.whl (352 kB)\n",
      "Downloading tiktoken-0.9.0-cp312-cp312-manylinux_2_17_x86_64.manylinux2014_x86_64.whl (1.2 MB)\n",
      "\u001b[2K   \u001b[90m━━━━━━━━━━━━━━━━━━━━━━━━━━━━━━━━━━━━━━━━\u001b[0m \u001b[32m1.2/1.2 MB\u001b[0m \u001b[31m20.8 MB/s\u001b[0m eta \u001b[36m0:00:00\u001b[0m\n",
      "\u001b[?25hDownloading regex-2024.11.6-cp312-cp312-manylinux_2_17_x86_64.manylinux2014_x86_64.whl (796 kB)\n",
      "\u001b[2K   \u001b[90m━━━━━━━━━━━━━━━━━━━━━━━━━━━━━━━━━━━━━━━━\u001b[0m \u001b[32m796.9/796.9 kB\u001b[0m \u001b[31m14.1 MB/s\u001b[0m eta \u001b[36m0:00:00\u001b[0m\n",
      "\u001b[?25hDownloading tqdm-4.67.1-py3-none-any.whl (78 kB)\n",
      "Downloading typing_inspection-0.4.1-py3-none-any.whl (14 kB)\n",
      "Downloading zipp-3.23.0-py3-none-any.whl (10 kB)\n",
      "Downloading aiofiles-24.1.0-py3-none-any.whl (15 kB)\n",
      "Downloading azure_identity-1.23.0-py3-none-any.whl (186 kB)\n",
      "Downloading msal-1.32.3-py3-none-any.whl (115 kB)\n",
      "Downloading PyJWT-2.10.1-py3-none-any.whl (22 kB)\n",
      "Downloading msal_extensions-1.3.1-py3-none-any.whl (20 kB)\n",
      "Installing collected packages: azure-common, zipp, typing-inspection, tqdm, regex, PyJWT, pydantic-core, protobuf, jsonref, jiter, isodate, distro, annotated-types, aiofiles, tiktoken, pydantic, importlib-metadata, cryptography, azure-core, opentelemetry-api, openai, azure-storage-blob, azure-search-documents, azure-ai-inference, azure-ai-agents, opentelemetry-semantic-conventions, msal, azure-ai-projects, msal-extensions, autogen-core, azure-identity, autogen-ext, autogen-agentchat\n",
      "\u001b[2K   \u001b[90m━━━━━━━━━━━━━━━━━━━━━━━━━━━━━━━━━━━━━━━━\u001b[0m \u001b[32m33/33\u001b[0m [autogen-agentchat]autogen-agentchat]]nts]\n",
      "\u001b[1A\u001b[2KSuccessfully installed PyJWT-2.10.1 aiofiles-24.1.0 annotated-types-0.7.0 autogen-agentchat-0.6.2 autogen-core-0.6.2 autogen-ext-0.6.2 azure-ai-agents-1.0.2 azure-ai-inference-1.0.0b9 azure-ai-projects-1.0.0b12 azure-common-1.1.28 azure-core-1.35.0 azure-identity-1.23.0 azure-search-documents-11.5.3 azure-storage-blob-12.25.1 cryptography-45.0.5 distro-1.9.0 importlib-metadata-8.7.0 isodate-0.7.2 jiter-0.10.0 jsonref-1.1.0 msal-1.32.3 msal-extensions-1.3.1 openai-1.93.0 opentelemetry-api-1.34.1 opentelemetry-semantic-conventions-0.55b1 protobuf-5.29.5 pydantic-2.11.7 pydantic-core-2.33.2 regex-2024.11.6 tiktoken-0.9.0 tqdm-4.67.1 typing-inspection-0.4.1 zipp-3.23.0\n"
     ]
    }
   ],
   "source": [
    "!pip install -U \"autogen-agentchat\" \"autogen-ext[openai,azure]\""
   ]
  },
  {
   "cell_type": "code",
   "execution_count": null,
   "id": "e6f1515d",
   "metadata": {},
   "outputs": [],
   "source": [
    "import pandas as pd\n",
    "import sqlite3\n",
    "import os\n",
    "from dotenv import load_dotenv\n",
    "from autogen_agentchat.agents import AssistantAgent\n",
    "from autogen_agentchat.ui import Console\n",
    "from autogen_ext.models.openai import OpenAIChatCompletionClient\n",
    "from autogen_agentchat.teams import DiGraphBuilder, GraphFlow"
   ]
  },
  {
   "cell_type": "code",
   "execution_count": 2,
   "id": "11d68029",
   "metadata": {},
   "outputs": [
    {
     "data": {
      "text/plain": [
       "True"
      ]
     },
     "execution_count": 2,
     "metadata": {},
     "output_type": "execute_result"
    }
   ],
   "source": [
    "load_dotenv()"
   ]
  },
  {
   "cell_type": "markdown",
   "id": "eccad8ca",
   "metadata": {},
   "source": [
    "#### Load data into SQLite db"
   ]
  },
  {
   "cell_type": "code",
   "execution_count": 2,
   "metadata": {},
   "outputs": [],
   "source": [
    "DB_PATH = \"bank_customers_data.db\"\n",
    "\n",
    "def load_data_to_sqlite(csv_path):\n",
    "    df = pd.read_csv(csv_path)\n",
    "    conn = sqlite3.connect(DB_PATH)\n",
    "    df.to_sql(\"customers\", conn, if_exists=\"replace\", index=False)\n",
    "    conn.close()\n",
    "    return True"
   ]
  },
  {
   "cell_type": "markdown",
   "id": "cec1f5f2",
   "metadata": {},
   "source": [
    "#### Tools"
   ]
  },
  {
   "cell_type": "code",
   "execution_count": 3,
   "id": "a9305b13",
   "metadata": {},
   "outputs": [],
   "source": [
    "def run_sql_query(sql_query: str) -> str:\n",
    "    conn = sqlite3.connect(DB_PATH)\n",
    "    result = pd.read_sql_query(sql_query, conn)\n",
    "    conn.close()\n",
    "    return result.to_string(index=False)"
   ]
  },
  {
   "cell_type": "code",
   "execution_count": null,
   "id": "d86768bf",
   "metadata": {},
   "outputs": [],
   "source": [
    "def fetch_table_columns() -> list:\n",
    "    conn = sqlite3.connect(DB_PATH)\n",
    "    cursor = conn.cursor()\n",
    "    cursor.execute(f\"PRAGMA table_info(customers)\")\n",
    "    results = cursor.fetchall()\n",
    "    columns = [column[1] for column in results]\n",
    "    conn.close()\n",
    "    return columns"
   ]
  },
  {
   "cell_type": "markdown",
   "id": "4e5e5c9f",
   "metadata": {},
   "source": [
    "#### Agent Definition"
   ]
  },
  {
   "cell_type": "code",
   "execution_count": 7,
   "id": "54cb23c0",
   "metadata": {},
   "outputs": [],
   "source": [
    "# Define a model client\n",
    "model_client = OpenAIChatCompletionClient(\n",
    "    model=\"gpt-4o\",\n",
    "    api_key=os.environ[\"OPENAI_API_KEY\"],\n",
    ")"
   ]
  },
  {
   "cell_type": "code",
   "execution_count": null,
   "id": "def2f19a",
   "metadata": {},
   "outputs": [],
   "source": [
    "de_assistant = AssistantAgent(\n",
    "        name=\"data_engineer\",\n",
    "        model_client=model_client,\n",
    "        tools=[fetch_table_columns],  # Tool is callable with SQL query\n",
    "        system_message=\"\"\"\n",
    "            You are a data engineer with who writes SQL queries on a SQLite database on table 'customers' containing customer banking data. Infer the column name from the database and table before creating the query.\n",
    "            Your task is to interpret user questions and generate SQL queries.\n",
    "        \"\"\",\n",
    "        reflect_on_tool_use=True,\n",
    "        model_client_stream=True,  # Enable streaming tokens from the model client.\n",
    "    )\n",
    "\n",
    "da_assistant = AssistantAgent(\n",
    "        name=\"data_analyst\",\n",
    "        model_client=model_client,\n",
    "        tools=[run_sql_query],  # Tool is callable with SQL query\n",
    "        system_message=\"\"\"\n",
    "            You are a data analyst who reviews and executes SQL queries on a SQLite database on table 'customers' containing customer banking data.\n",
    "            Your task is to execute the SQL queries provided by the data engineer and return the results. If the result is too big, summarize the results and return the summary.\n",
    "        \"\"\",\n",
    "        reflect_on_tool_use=True,\n",
    "        model_client_stream=True,  # Enable streaming tokens from the model client.\n",
    "    )"
   ]
  },
  {
   "cell_type": "markdown",
   "id": "cab70993",
   "metadata": {},
   "source": [
    "#### Main"
   ]
  },
  {
   "cell_type": "code",
   "execution_count": null,
   "id": "597afc2a",
   "metadata": {},
   "outputs": [],
   "source": [
    "load_data_to_sqlite(\"./data/data.csv\")\n",
    "\n",
    "# Build the graph\n",
    "builder = DiGraphBuilder()\n",
    "builder.add_node(de_assistant).add_node(da_assistant)\n",
    "builder.add_edge(de_assistant, da_assistant)\n",
    "\n",
    "# Build and validate the graph\n",
    "graph = builder.build()\n",
    "\n",
    "# Create the flow\n",
    "flow = GraphFlow([de_assistant, da_assistant], graph=graph)\n",
    "\n",
    "# Run the agent and stream the messages to the console.\n",
    "async def main() -> None:\n",
    "    await Console(flow.run_stream(task=\"What is the average balance by gender, age, and job classification?\"))\n",
    "    # Close the connection to the model client.\n",
    "    # await az_model_client.close()\n",
    "\n",
    "\n",
    "# NOTE: if running this inside a Python script you'll need to use asyncio.run(main()).\n",
    "await main()"
   ]
  },
  {
   "cell_type": "markdown",
   "id": "af8c02b2",
   "metadata": {},
   "source": [
    "#### Sample Output:\n",
    "task=\"What is the average balance by gender, age, and job classification?\"\n",
    "\n",
    "---------- TextMessage (user) ----------\n",
    "What is the average balance by gender, age, and job classification?\n",
    "---------- ToolCallRequestEvent (data_engineer) ----------\n",
    "[FunctionCall(id='call_9FbwC5N4flC68TukWcH0DQrs', arguments='{}', name='fetch_table_columns')]\n",
    "---------- ToolCallExecutionEvent (data_engineer) ----------\n",
    "[FunctionExecutionResult(content=\"['Customer ID', 'Name', 'Surname', 'Gender', 'Age', 'Region', 'Job Classification', 'Date Joined', 'Balance']\", name='fetch_table_columns', call_id='call_9FbwC5N4flC68TukWcH0DQrs', is_error=False)]\n",
    "---------- ModelClientStreamingChunkEvent (data_engineer) ----------\n",
    "To find the average balance by gender, age, and job classification, here's the SQL query:\n",
    "\n",
    "```sql\n",
    "SELECT \n",
    "    Gender,\n",
    "    Age,\n",
    "    [Job Classification],\n",
    "    AVG(Balance) AS Average_Balance\n",
    "FROM \n",
    "    customers\n",
    "GROUP BY \n",
    "    Gender, Age, [Job Classification];\n",
    "```\n",
    "---------- ToolCallRequestEvent (data_analyst) ----------\n",
    "[FunctionCall(id='call_fYBvpSgDbMz6KARUj8jP17Hw', arguments='{\"sql_query\":\"SELECT Gender, Age, [Job Classification], AVG(Balance) AS Average_Balance FROM customers GROUP BY Gender, Age, [Job Classification];\"}', name='run_sql_query')]\n",
    "---------- ToolCallExecutionEvent (data_analyst) ----------\n",
    "[FunctionExecutionResult(content='Gender  Age Job Classification  Average_Balance\\nFemale   17              Other     65798.400000\\nFemale   18              Other     51171.290000\\nFemale   18       White Collar     45833.310000\\nFemale   19              Other      9535.555000\\nFemale   19       White Collar     30972.980000\\nFemale   20              Other     10453.930000\\nFemale   20       White Collar      1488.040000\\nFemale   21        Blue Collar     60338.070000\\nFemale   21              Other     13487.900000\\nFemale   21       White Collar     25257.990000\\nFemale   22              Other     68922.975000\\nFemale   22       White Collar     52006.435000\\nFemale   23        Blue Collar     38415.813333\\nFemale   23              Other     33231.110000\\nFemale   23       White Collar     36793.577500\\nFemale   24        Blue Collar     10816.330000\\nFemale   24              Other     55760.010000\\nFemale   24       White Collar     47314.206667\\nFemale   25        Blue Collar     47651.750000\\nFemale   25              Other     36950.000000\\nFemale   25       White Collar     41616.595000\\nFemale   26        Blue Collar     39944.640000\\nFemale   26              Other     32940.490000\\nFemale   26       White Collar     38309.007273\\nFemale   27              Other     17121.962500\\nFemale   27       White Collar     44208.080000\\nFemale   28              Other     40905.616667\\nFemale   28       White Collar     32113.793333\\nFemale   29        Blue Collar     18601.690000\\nFemale   29              Other     28543.510000\\nFemale   29       White Collar     23537.557000\\nFemale   30        Blue Collar     53395.210000\\nFemale   30              Other     24881.780000\\nFemale   30       White Collar     28822.326250\\nFemale   31        Blue Collar     35364.136667\\nFemale   31              Other     45644.170000\\nFemale   31       White Collar     53299.250769\\nFemale   32        Blue Collar     23059.560000\\nFemale   32              Other     51650.671667\\nFemale   32       White Collar     48677.242000\\nFemale   33        Blue Collar     48473.120000\\nFemale   33              Other     53092.360000\\nFemale   33       White Collar     32843.090000\\nFemale   34        Blue Collar     43526.100000\\nFemale   34              Other     84913.522000\\nFemale   34       White Collar     34261.667857\\nFemale   35        Blue Collar     64233.870000\\nFemale   35              Other     30452.315000\\nFemale   35       White Collar     26560.482500\\nFemale   36        Blue Collar     42180.646000\\nFemale   36              Other     37364.260000\\nFemale   36       White Collar     42723.190000\\nFemale   37        Blue Collar      9178.750000\\nFemale   37              Other     43028.860000\\nFemale   37       White Collar     26743.688571\\nFemale   38        Blue Collar     41472.085000\\nFemale   38              Other     26489.804444\\nFemale   38       White Collar     36727.857000\\nFemale   39              Other     23852.485000\\nFemale   39       White Collar     50652.051250\\nFemale   40        Blue Collar     51864.200000\\nFemale   40              Other     35058.945000\\nFemale   40       White Collar     32030.137273\\nFemale   41        Blue Collar     18907.190000\\nFemale   41              Other     54723.720000\\nFemale   41       White Collar     21308.726667\\nFemale   42        Blue Collar     25968.512500\\nFemale   42              Other     37523.026000\\nFemale   42       White Collar     32012.122857\\nFemale   43        Blue Collar     19713.305000\\nFemale   43              Other     69834.785000\\nFemale   43       White Collar     34158.440000\\nFemale   44              Other     28448.606667\\nFemale   44       White Collar     15531.086667\\nFemale   45        Blue Collar      2575.630000\\nFemale   45              Other     36819.570000\\nFemale   45       White Collar     47336.331429\\nFemale   46        Blue Collar     18294.960000\\nFemale   46       White Collar     31509.067500\\nFemale   47        Blue Collar      9098.320000\\nFemale   47              Other     38564.100000\\nFemale   47       White Collar     42680.197500\\nFemale   48        Blue Collar     46475.720000\\nFemale   48              Other     35162.263333\\nFemale   48       White Collar     26493.260000\\nFemale   49              Other      9119.520000\\nFemale   49       White Collar     20738.670000\\nFemale   50              Other     16326.206667\\nFemale   50       White Collar     57622.790000\\nFemale   51        Blue Collar     40918.080000\\nFemale   51              Other     47445.605000\\nFemale   51       White Collar     19453.065000\\nFemale   52        Blue Collar     76378.230000\\nFemale   52              Other     36149.620000\\nFemale   53              Other     42526.845000\\nFemale   53       White Collar     35865.540000\\nFemale   54              Other     31846.935000\\nFemale   55              Other      9885.690000\\nFemale   55       White Collar     35939.040000\\nFemale   56              Other     26675.373333\\nFemale   57              Other     22686.000000\\nFemale   57       White Collar     45944.180000\\nFemale   58              Other     43520.970000\\nFemale   59              Other     38383.646667\\nFemale   59       White Collar     44129.740000\\nFemale   61              Other      8367.590000\\nFemale   63              Other     18517.010000\\n  Male   18       White Collar     15232.910000\\n  Male   19        Blue Collar     94786.370000\\n  Male   19       White Collar     70407.910000\\n  Male   20        Blue Collar      9578.650000\\n  Male   20       White Collar      7369.925000\\n  Male   21       White Collar     70416.545000\\n  Male   22        Blue Collar       837.330000\\n  Male   22       White Collar      7202.520000\\n  Male   23        Blue Collar     57251.455000\\n  Male   23       White Collar     12665.996667\\n  Male   24        Blue Collar     36839.126667\\n  Male   24              Other     36256.200000\\n  Male   24       White Collar     47306.097500\\n  Male   25              Other      4203.533333\\n  Male   25       White Collar     31660.860000\\n  Male   26        Blue Collar     28210.780000\\n  Male   26              Other     13988.695000\\n  Male   26       White Collar      8031.898000\\n  Male   27        Blue Collar     51412.600000\\n  Male   27              Other     15502.375000\\n  Male   27       White Collar     38464.014444\\n  Male   28        Blue Collar     25473.533333\\n  Male   28              Other     18064.460000\\n  Male   28       White Collar    107024.390000\\n  Male   29        Blue Collar     46661.913333\\n  Male   29              Other    106172.130000\\n  Male   29       White Collar     41177.936250\\n  Male   30        Blue Collar     18068.060000\\n  Male   30       White Collar     27516.072222\\n  Male   31        Blue Collar     37404.913333\\n  Male   31              Other     13313.475000\\n  Male   31       White Collar     58752.402000\\n  Male   32        Blue Collar     17749.950000\\n  Male   32              Other     39096.812500\\n  Male   32       White Collar     41228.466923\\n  Male   33        Blue Collar     53376.636000\\n  Male   33              Other     36680.136667\\n  Male   33       White Collar     38437.611250\\n  Male   34        Blue Collar     48564.935000\\n  Male   34              Other     39892.760000\\n  Male   34       White Collar     27422.205000\\n  Male   35        Blue Collar     17550.043333\\n  Male   35              Other     37464.240000\\n  Male   35       White Collar     41728.760909\\n  Male   36        Blue Collar     42862.854000\\n  Male   36              Other       401.130000\\n  Male   36       White Collar     36088.972000\\n  Male   37        Blue Collar     45255.350000\\n  Male   37              Other     44234.520000\\n  Male   37       White Collar     45925.041818\\n  Male   38        Blue Collar     40764.078333\\n  Male   38       White Collar     39769.489000\\n  Male   39        Blue Collar     30364.123333\\n  Male   39              Other     56514.660000\\n  Male   39       White Collar     40165.146667\\n  Male   40        Blue Collar     27094.806000\\n  Male   40              Other     14407.495000\\n  Male   40       White Collar     34981.104000\\n  Male   41        Blue Collar     54448.205000\\n  Male   41              Other      4846.570000\\n  Male   41       White Collar     60614.952727\\n  Male   42        Blue Collar     61008.830000\\n  Male   42              Other     37943.435000\\n  Male   42       White Collar     31708.356667\\n  Male   43        Blue Collar     50789.726667\\n  Male   43              Other     26952.848000\\n  Male   43       White Collar     27790.510000\\n  Male   44        Blue Collar     42750.358333\\n  Male   44              Other     15364.023333\\n  Male   44       White Collar     43555.370000\\n  Male   45        Blue Collar     41668.941667\\n  Male   45              Other     34355.481538\\n  Male   45       White Collar     12276.505000\\n  Male   46        Blue Collar     34306.523333\\n  Male   46              Other     48791.460000\\n  Male   46       White Collar     63015.400000\\n  Male   47        Blue Collar     28374.645714\\n  Male   47              Other     26924.166667\\n  Male   47       White Collar     32715.802500\\n  Male   48        Blue Collar     21136.713333\\n  Male   48              Other     41166.146000\\n  Male   48       White Collar     47226.280000\\n  Male   49        Blue Collar     74855.292857\\n  Male   49       White Collar     68252.300000\\n  Male   50        Blue Collar     50457.317500\\n  Male   50              Other     48457.180000\\n  Male   50       White Collar     43234.210000\\n  Male   51        Blue Collar     49589.766364\\n  Male   51              Other     32382.550000\\n  Male   51       White Collar     59878.793333\\n  Male   52        Blue Collar     35834.563333\\n  Male   52              Other     34702.108000\\n  Male   52       White Collar     68578.375000\\n  Male   53        Blue Collar     39020.856000\\n  Male   53              Other     75635.823333\\n  Male   53       White Collar     22354.530000\\n  Male   54        Blue Collar     44106.333333\\n  Male   54              Other      5478.895000\\n  Male   54       White Collar     52802.850000\\n  Male   55        Blue Collar     35344.763333\\n  Male   55              Other     36325.350000\\n  Male   56        Blue Collar     31073.536667\\n  Male   56              Other     70950.090000\\n  Male   57        Blue Collar     39188.843333\\n  Male   58        Blue Collar     29755.800000\\n  Male   58              Other     70390.730000\\n  Male   59        Blue Collar     27446.900000\\n  Male   59              Other    114456.230000\\n  Male   60        Blue Collar     13764.720000\\n  Male   60              Other     49081.500000\\n  Male   60       White Collar      1860.460000\\n  Male   61        Blue Collar     31880.076667\\n  Male   62        Blue Collar      6273.930000\\n  Male   62              Other     53342.100000\\n  Male   63        Blue Collar     26474.230000\\n  Male   63              Other     48244.175000\\n  Male   64        Blue Collar      9842.700000', name='run_sql_query', call_id='call_fYBvpSgDbMz6KARUj8jP17Hw', is_error=False)]\n",
    "---------- ModelClientStreamingChunkEvent (data_analyst) ----------\n",
    "The table contains detailed average balances segmented by gender, age, and job classification. To summarize:\n",
    "\n",
    "1. **Gender Specifics**:\n",
    "   - Both male and female average balances vary widely depending on combinations of age and job classification.\n",
    "\n",
    "2. **Age Trends**:\n",
    "   - Across genders, average balances generally fluctuate as age progresses, often influenced by job classifications like \"White Collar,\" \"Blue Collar,\" and \"Other.\"\n",
    "\n",
    "3. **Job Classification**:\n",
    "   - \"White Collar\" jobs often have a higher average balance compared to \"Blue Collar\" or \"Other,\" but exceptions exist depending on age and gender.\n",
    "\n",
    "Let me know if you'd like me to filter or further analyze the data for specific insights!\n",
    "---------- StopMessage (DiGraphStopAgent) ----------\n",
    "Digraph execution is complete"
   ]
  },
  {
   "cell_type": "code",
   "execution_count": null,
   "id": "3b45183b",
   "metadata": {},
   "outputs": [],
   "source": []
  },
  {
   "cell_type": "code",
   "execution_count": null,
   "id": "a370dc2d",
   "metadata": {},
   "outputs": [],
   "source": []
  }
 ],
 "metadata": {
  "kernelspec": {
   "display_name": "Python 3",
   "language": "python",
   "name": "python3"
  },
  "language_info": {
   "codemirror_mode": {
    "name": "ipython",
    "version": 3
   },
   "file_extension": ".py",
   "mimetype": "text/x-python",
   "name": "python",
   "nbconvert_exporter": "python",
   "pygments_lexer": "ipython3",
   "version": "3.12.1"
  }
 },
 "nbformat": 4,
 "nbformat_minor": 5
}
